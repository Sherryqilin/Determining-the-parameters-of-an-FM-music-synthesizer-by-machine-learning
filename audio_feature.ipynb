{
 "cells": [
  {
   "cell_type": "markdown",
   "metadata": {},
   "source": [
    "# This code file is just the processing code for audio file data. Extract feature values ​​and save them in tabular form. All audio data is in this code file, you just need to modify the file path. Therefore, when you want to detect this code file, you need to download my audio data. I will post it in the readme file of my github warehouse. ps: The training set is 45.7GB and the two test sets are 7.74GB.\n"
   ]
  },
  {
   "cell_type": "code",
   "execution_count": 1,
   "metadata": {},
   "outputs": [
    {
     "name": "stderr",
     "output_type": "stream",
     "text": [
      "d:\\Python\\Lib\\site-packages\\librosa\\core\\pitch.py:101: UserWarning: Trying to estimate tuning from empty frequency set.\n",
      "  return pitch_tuning(\n",
      "C:\\Users\\fairy\\AppData\\Local\\Temp\\ipykernel_23304\\1173480409.py:37: FutureWarning: The behavior of DataFrame concatenation with empty or all-NA entries is deprecated. In a future version, this will no longer exclude empty or all-NA columns when determining the result dtypes. To retain the old behavior, exclude the relevant entries before the concat operation.\n",
      "  data = pd.concat([data, pd.DataFrame([feature_data])], ignore_index=True)\n"
     ]
    },
    {
     "name": "stdout",
     "output_type": "stream",
     "text": [
      "save to 'audio_features_test2.csv'\n"
     ]
    }
   ],
   "source": [
    "import librosa\n",
    "import numpy as np\n",
    "import pandas as pd\n",
    "import os\n",
    "\n",
    "# Define the path to the audio file\n",
    "audio_path = 'test data2'\n",
    "\n",
    "# Create a DataFrame to store features and labels\n",
    "columns = ['MFCCs', 'Spectral_Centroid', 'Spectral_Rolloff', 'Zero_Crossing_Rate', 'Chroma_Features', 'C_val', 'M_val', 'D_val']\n",
    "data = pd.DataFrame(columns=columns)\n",
    "\n",
    "# Process each audio file one by one\n",
    "for filename in os.listdir(audio_path):\n",
    "    if filename.endswith(\".wav\"):\n",
    "        file_path = os.path.join(audio_path, filename)\n",
    "        y, sr = librosa.load(file_path, sr=None)\n",
    "\n",
    "        # Extract MFCC features\n",
    "        mfcc = librosa.feature.mfcc(y=y, sr=sr)\n",
    "        mfccs = np.mean(mfcc.T, axis=0)\n",
    "\n",
    "        # xtract other features\n",
    "        spectral_centroid = np.mean(librosa.feature.spectral_centroid(y=y, sr=sr))\n",
    "        spectral_rolloff = np.mean(librosa.feature.spectral_rolloff(y=y, sr=sr))\n",
    "        zero_crossing_rate = np.mean(librosa.feature.zero_crossing_rate(y))\n",
    "        chroma_features = np.mean(librosa.feature.chroma_stft(y=y, sr=sr), axis=1)\n",
    "\n",
    "        # Parse the filename to get parameter values\n",
    "        parts = filename.rstrip('.wav').split('_')\n",
    "        c_val = float(parts[2])\n",
    "        m_val = float(parts[4])\n",
    "        d_val = float(parts[6])\n",
    "\n",
    "        # Add features and labels to DataFrame\n",
    "        feature_data = pd.Series([mfccs, spectral_centroid, spectral_rolloff, zero_crossing_rate, chroma_features, c_val, m_val, d_val], index=columns)\n",
    "        data = pd.concat([data, pd.DataFrame([feature_data])], ignore_index=True)\n",
    "\n",
    "# Save DataFrame to CSV file\n",
    "data.to_csv('audio_features_test2.csv', index=False)\n",
    "\n",
    "print(\"save to 'audio_features_test2.csv'\")\n"
   ]
  }
 ],
 "metadata": {
  "kernelspec": {
   "display_name": "Python 3",
   "language": "python",
   "name": "python3"
  },
  "language_info": {
   "codemirror_mode": {
    "name": "ipython",
    "version": 3
   },
   "file_extension": ".py",
   "mimetype": "text/x-python",
   "name": "python",
   "nbconvert_exporter": "python",
   "pygments_lexer": "ipython3",
   "version": "3.12.0"
  }
 },
 "nbformat": 4,
 "nbformat_minor": 2
}
